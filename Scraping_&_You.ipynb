{
  "nbformat": 4,
  "nbformat_minor": 0,
  "metadata": {
    "colab": {
      "name": "Scraping-&-You.ipynb",
      "provenance": [],
      "collapsed_sections": [],
      "toc_visible": true,
      "authorship_tag": "ABX9TyMEgpJ7euCipt+bNbNme8b+",
      "include_colab_link": true
    },
    "kernelspec": {
      "name": "python3",
      "display_name": "Python 3"
    },
    "accelerator": "GPU"
  },
  "cells": [
    {
      "cell_type": "markdown",
      "metadata": {
        "id": "view-in-github",
        "colab_type": "text"
      },
      "source": [
        "<a href=\"https://colab.research.google.com/github/stalgiag/notebooks/blob/master/Scraping_%26_You.ipynb\" target=\"_parent\"><img src=\"https://colab.research.google.com/assets/colab-badge.svg\" alt=\"Open In Colab\"/></a>"
      ]
    },
    {
      "cell_type": "markdown",
      "metadata": {
        "id": "tZGJBTEBi921",
        "colab_type": "text"
      },
      "source": [
        "## ✨Hello!✨\n",
        "\n",
        "We are going to explore what it means to build a dataset.\n",
        "We will do this with an open-eyed awareness of the imperfection of the process.\n",
        "Our experiments will result in incomplete, silly, or incorrect databases. But along the way we will learn a little bit about data-scraping, cloud computing, and what it means to \"build\" a dataset without institutional support.\n"
      ]
    },
    {
      "cell_type": "markdown",
      "metadata": {
        "id": "UK3RVoxyjxFq",
        "colab_type": "text"
      },
      "source": [
        "## 🎈Colab, Bash, Python, and Selenium 🎈\n",
        "\n",
        "These are the names of our tools for this workshop. It doesn't matter if any of these are unfamilar. We will learn together with exploration and experimentation."
      ]
    },
    {
      "cell_type": "markdown",
      "metadata": {
        "id": "Gr88ZsFndudg",
        "colab_type": "text"
      },
      "source": [
        "## ☁️ Colab ☁️\n",
        "Colab is running on a remote runtime on a cloud server provided by Google. This is a free resource. We can assume that they are tracking all data in this space, but in exchange we get a great GPU to train models on."
      ]
    },
    {
      "cell_type": "code",
      "metadata": {
        "id": "ne_icOLdd--D",
        "colab_type": "code",
        "colab": {
          "base_uri": "https://localhost:8080/",
          "height": 306
        },
        "outputId": "551fb0fa-8e00-40f5-84b9-760df91fa602"
      },
      "source": [
        "# this command shows us the GPU activity for our runtime, if the command doesn't work make sure your GPU is enabled in `Edit -> Notebook Setting`\n",
        "!nvidia-smi"
      ],
      "execution_count": 1,
      "outputs": [
        {
          "output_type": "stream",
          "text": [
            "Tue Mar 10 19:25:40 2020       \n",
            "+-----------------------------------------------------------------------------+\n",
            "| NVIDIA-SMI 440.59       Driver Version: 418.67       CUDA Version: 10.1     |\n",
            "|-------------------------------+----------------------+----------------------+\n",
            "| GPU  Name        Persistence-M| Bus-Id        Disp.A | Volatile Uncorr. ECC |\n",
            "| Fan  Temp  Perf  Pwr:Usage/Cap|         Memory-Usage | GPU-Util  Compute M. |\n",
            "|===============================+======================+======================|\n",
            "|   0  Tesla P4            Off  | 00000000:00:04.0 Off |                    0 |\n",
            "| N/A   42C    P8     7W /  75W |      0MiB /  7611MiB |      0%      Default |\n",
            "+-------------------------------+----------------------+----------------------+\n",
            "                                                                               \n",
            "+-----------------------------------------------------------------------------+\n",
            "| Processes:                                                       GPU Memory |\n",
            "|  GPU       PID   Type   Process name                             Usage      |\n",
            "|=============================================================================|\n",
            "|  No running processes found                                                 |\n",
            "+-----------------------------------------------------------------------------+\n"
          ],
          "name": "stdout"
        }
      ]
    },
    {
      "cell_type": "markdown",
      "metadata": {
        "id": "Kff1L86iehbT",
        "colab_type": "text"
      },
      "source": [
        "## 🐍 Bash && Python 🐍"
      ]
    },
    {
      "cell_type": "code",
      "metadata": {
        "id": "p5slPLzZmURj",
        "colab_type": "code",
        "colab": {}
      },
      "source": [
        "# pip is a package manager for python.\n",
        "# here we are installing the selenium module\n",
        "!pip install selenium\n",
        "!apt-get update # to update ubuntu to correctly run apt install\n",
        "!apt install chromium-chromedriver\n",
        "!cp /usr/lib/chromium-browser/chromedriver /usr/bin\n",
        "import sys\n",
        "sys.path.insert(0,'/usr/lib/chromium-browser/chromedriver')\n",
        "from selenium import webdriver\n",
        "chrome_options = webdriver.ChromeOptions()\n",
        "chrome_options.add_argument('--headless')\n",
        "chrome_options.add_argument('--no-sandbox')\n",
        "chrome_options.add_argument('--disable-dev-shm-usage')\n",
        "wd = webdriver.Chrome('chromedriver',chrome_options=chrome_options)\n"
      ],
      "execution_count": 0,
      "outputs": []
    },
    {
      "cell_type": "code",
      "metadata": {
        "id": "ZLW8vZR-3Ff3",
        "colab_type": "code",
        "colab": {}
      },
      "source": [
        "# importing the necessary modules\n",
        "from selenium import webdriver\n",
        "import os\n",
        "\n",
        "searchterm = 'redacted information' # input your search item here\n",
        "url = \"https://www.google.co.in/search?q=\"+searchterm+\"&source=lnms&tbm=isch\"\n",
        "wd.get(url)\n",
        "img_count = 0\n",
        "extensions = { \"jpg\", \"jpeg\", \"png\", \"gif\" }\n",
        "\n",
        "if not os.path.exists(searchterm):\n",
        "    os.mkdir(searchterm)\n",
        "\n",
        "# scroll the virtual browser window to grab more image results\n",
        "for _ in range(500):\n",
        "    wd.execute_script(\"window.scrollBy(0,10000)\")\n",
        "    \n",
        "html = wd.page_source.split('[\"')\n",
        "images = []\n",
        "for i in html:\n",
        "    if i.startswith('http') and i.split('\"')[0].split('.')[-1] in extensions:\n",
        "        images.append(i.split('\"')[0])\n",
        "        \n",
        "print(images)"
      ],
      "execution_count": 0,
      "outputs": []
    },
    {
      "cell_type": "markdown",
      "metadata": {
        "id": "8I_Ojy8Jcxms",
        "colab_type": "text"
      },
      "source": [
        "Okay we need to make a folder to store all of our scraped images.\n",
        "\n",
        "*note that I show a different way to invoke bash here. If we put `%%shell` at the top of a cell that whole cell will be interpreted as bash."
      ]
    },
    {
      "cell_type": "code",
      "metadata": {
        "id": "7y5Qh-ONYr7Q",
        "colab_type": "code",
        "outputId": "ba623fc1-a5de-42dd-9d76-b0f352ad693b",
        "colab": {
          "base_uri": "https://localhost:8080/",
          "height": 17
        }
      },
      "source": [
        "%%shell\n",
        "mkdir res"
      ],
      "execution_count": 0,
      "outputs": [
        {
          "output_type": "execute_result",
          "data": {
            "text/plain": [
              ""
            ]
          },
          "metadata": {
            "tags": []
          },
          "execution_count": 1
        }
      ]
    },
    {
      "cell_type": "markdown",
      "metadata": {
        "id": "b1lzT7XFcjo0",
        "colab_type": "text"
      },
      "source": [
        "## Downloading :-D\n",
        "\n",
        "Okay! Now we need to go to all of those URLs and download the images. "
      ]
    },
    {
      "cell_type": "code",
      "metadata": {
        "id": "-Fjlg7n3kt43",
        "colab_type": "code",
        "colab": {}
      },
      "source": [
        "import requests\n",
        "\n",
        "for i in images:\n",
        "  myfile = requests.get(i)\n",
        "  open('res/' + i.split('/')[-1], 'wb').write(myfile.content)"
      ],
      "execution_count": 0,
      "outputs": []
    },
    {
      "cell_type": "markdown",
      "metadata": {
        "id": "wmy4P5GFcRZG",
        "colab_type": "text"
      },
      "source": [
        "🍌🍌🍌\n",
        "\n",
        "Now we simply zip up our results for downloading!\n",
        "\n",
        "🍌🍌🍌"
      ]
    },
    {
      "cell_type": "code",
      "metadata": {
        "id": "DqAZEcB1biJi",
        "colab_type": "code",
        "colab": {}
      },
      "source": [
        "%%shell\n",
        "\n",
        "zip -r res.zip res"
      ],
      "execution_count": 0,
      "outputs": []
    }
  ]
}